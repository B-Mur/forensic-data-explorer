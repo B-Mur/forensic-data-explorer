{
  "nbformat": 4,
  "nbformat_minor": 0,
  "metadata": {
    "colab": {
      "name": "DataLoggerViewer.ipynb",
      "provenance": [],
      "mount_file_id": "1Wc7kQIuA0ttI_wAlJd7ZDDQwTYSWMwBu",
      "authorship_tag": "ABX9TyN53CbbR00XLRX5GCnzm8fN",
      "include_colab_link": true
    },
    "kernelspec": {
      "name": "python3",
      "display_name": "Python 3"
    }
  },
  "cells": [
    {
      "cell_type": "markdown",
      "metadata": {
        "id": "view-in-github",
        "colab_type": "text"
      },
      "source": [
        "<a href=\"https://colab.research.google.com/github/B-Mur/forensic-data-explorer/blob/master/DataLoggerViewer.ipynb\" target=\"_parent\"><img src=\"https://colab.research.google.com/assets/colab-badge.svg\" alt=\"Open In Colab\"/></a>"
      ]
    },
    {
      "cell_type": "markdown",
      "metadata": {
        "id": "MAyBIYC4J5sD",
        "colab_type": "text"
      },
      "source": [
        "<h1>Temperature Logging Viewer</h1>\n",
        "This notebook is dedicated to viewing the data collected from [NEED SENSOR INFO] that were place [NEED TERMINOLOGY HERE]. \n",
        "\n",
        "*Purpose* : This notebook highlight that [NEED CONCLUSIONS HERE]"
      ]
    },
    {
      "cell_type": "code",
      "metadata": {
        "id": "6JjlZFQ_xtiY",
        "colab_type": "code",
        "colab": {}
      },
      "source": [
        "# if it's the first time running \n",
        "# !git clone https://github.com/B-Mur/nij-data-explorer.git\n",
        "# !pip install flirimageextractor\n",
        "# !pip install loguru\n",
        "# !apt-get install -y exiftool\n",
        "\n",
        "import sys\n",
        "sys.path.append('/content/nij-data-explorer')\n",
        "\n",
        "from utils import *"
      ],
      "execution_count": 1,
      "outputs": []
    },
    {
      "cell_type": "code",
      "metadata": {
        "id": "5zK-4usBx2Nb",
        "colab_type": "code",
        "colab": {
          "base_uri": "https://localhost:8080/",
          "height": 173
        },
        "outputId": "415bd3d2-ade2-4bed-98ad-99327c210002"
      },
      "source": [
        "loggerDir = '/content/drive/My Drive/NIJ/Notebooks/Data/NIJ-DATA/DATA/2020_017'\n",
        "loggerFile = [file for file in os.listdir(loggerDir) if file.endswith('.csv')]\n",
        "\n",
        "# need to add the weather data\n",
        "plot_logger_fig(loggerDir, loggerFile, weather=True).show()\n"
      ],
      "execution_count": 75,
      "outputs": [
        {
          "output_type": "stream",
          "text": [
            "/usr/local/lib/python3.6/dist-packages/dateutil/parser/_parser.py:1218: UnknownTimezoneWarning:\n",
            "\n",
            "tzname CST identified but not understood.  Pass `tzinfos` argument in order to correctly return a timezone-aware datetime.  In a future version, this will raise an exception.\n",
            "\n",
            "/usr/local/lib/python3.6/dist-packages/dateutil/parser/_parser.py:1218: UnknownTimezoneWarning:\n",
            "\n",
            "tzname CDT identified but not understood.  Pass `tzinfos` argument in order to correctly return a timezone-aware datetime.  In a future version, this will raise an exception.\n",
            "\n"
          ],
          "name": "stderr"
        }
      ]
    }
  ]
}