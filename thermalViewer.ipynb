# if it's the first time running 
!git clone https://github.com/B-Mur/nij-data-explorer.git
!pip install flirimageextractor
!pip install loguru
!apt-get install -y exiftool
import matplotlib as mlp
import numpy as np
import datetime
import pandas as pd
import flirimageextractor
import os
import matplotlib.pyplot as plt
from plotly.subplots import make_subplots
import plotly.graph_objects as go
import plotly.express as px
from PIL import Image
import sys
sys.path.append('/content/nij-data-explorer')
from utils import *
