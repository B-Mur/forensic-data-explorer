{
  "nbformat": 4,
  "nbformat_minor": 0,
  "metadata": {
    "colab": {
      "name": "ImageViewer.ipynb",
      "provenance": [],
      "collapsed_sections": [],
      "mount_file_id": "https://github.com/B-Mur/forensic-data-explorer/blob/master/ImageViewer.ipynb",
      "authorship_tag": "ABX9TyONUf/eKZa3yq5XWKmTSsxL",
      "include_colab_link": true
    },
    "kernelspec": {
      "name": "python3",
      "display_name": "Python 3"
    }
  },
  "cells": [
    {
      "cell_type": "markdown",
      "metadata": {
        "id": "view-in-github",
        "colab_type": "text"
      },
      "source": [
        "<a href=\"https://colab.research.google.com/github/B-Mur/forensic-data-explorer/blob/master/ImageViewer.ipynb\" target=\"_parent\"><img src=\"https://colab.research.google.com/assets/colab-badge.svg\" alt=\"Open In Colab\"/></a>"
      ]
    },
    {
      "cell_type": "markdown",
      "metadata": {
        "id": "F5JCHmlr1ecb",
        "colab_type": "text"
      },
      "source": [
        "<h1>ImageViewer</h1>\n",
        "This notebook is setup so that each image pair from the handheld FLIR sensor can be viewed in conjunction with the ambient temperature and logging data (if provided on a subject. \n",
        "\n",
        "This notebook has been setup so that the minimal amount of code needs to be directly interacted with. That being said, this notebook is missing some functionality, but should be able to do basics in it. \n",
        "\n"
      ]
    },
    {
      "cell_type": "markdown",
      "metadata": {
        "id": "og-cXT2mtOT9",
        "colab_type": "text"
      },
      "source": [
        "The first thing we need to do is import all the necessary packages.  "
      ]
    },
    {
      "cell_type": "code",
      "metadata": {
        "id": "MDYs35hDsk05",
        "colab_type": "code",
        "colab": {}
      },
      "source": [
        "# if it's the first time running \n",
        "!git clone https://github.com/B-Mur/nij-data-explorer.git\n",
        "!pip install flirimageextractor\n",
        "!pip install loguru\n",
        "!apt-get install -y exiftool\n",
        "import matplotlib as mlp\n",
        "import numpy as np\n",
        "import datetime\n",
        "import pandas as pd\n",
        "import flirimageextractor\n",
        "import os\n",
        "import matplotlib.pyplot as plt\n",
        "from plotly.subplots import make_subplots\n",
        "import plotly.graph_objects as go\n",
        "import plotly.express as px\n",
        "from PIL import Image\n",
        "import sys\n",
        "sys.path.append('/content/nij-data-explorer')\n",
        "from utils import *\n",
        "\n"
      ],
      "execution_count": null,
      "outputs": []
    },
    {
      "cell_type": "markdown",
      "metadata": {
        "id": "BthXy4eiS1Ec",
        "colab_type": "text"
      },
      "source": [
        "The next block you will need to fill in your google drive folder path in the `imgDir` variable. This will then plot all of the dates and times of the images taken. "
      ]
    },
    {
      "cell_type": "code",
      "metadata": {
        "id": "P07SpAcpHM6H",
        "colab_type": "code",
        "colab": {}
      },
      "source": [
        "imgDir = '/content/drive/My Drive/NIJ/Notebooks/Data/NIJ-DATA/DATA/2020_017'\n",
        "df = build_duo_image_links(imgDir)\n",
        "df['Time'], df['Date'] = df['DateTime'].dt.time, df['DateTime'].dt.date\n",
        "df.sort_values(by='Time', inplace=True)\n",
        "px.scatter(x=df['Date'], y=df['Time'])"
      ],
      "execution_count": null,
      "outputs": []
    },
    {
      "cell_type": "markdown",
      "metadata": {
        "id": "h0bBeaaoOeEK",
        "colab_type": "text"
      },
      "source": [
        "In the following, block of code, it will plot all rgb and thermal image pairs for the date specified in `DATE`. \n",
        "\n",
        "Be sure to follow the following format -> `XXX YY ZZZZ` where `XXX` is the first three letters of the month, `YY` is the date, and `ZZZZ` is the year. So, `Mar 24 2020` is a valid date. "
      ]
    },
    {
      "cell_type": "code",
      "metadata": {
        "id": "R6EdtWU8eQpo",
        "colab_type": "code",
        "colab": {}
      },
      "source": [
        "# Change this date\n",
        "DATE = 'May 11 2020'\n",
        "\n",
        "\n",
        "# Don't touch this -> It's basically converting to the right format. \n",
        "DATE = datetime.datetime.strptime(DATE, '%b %d %Y')\n",
        "DAY_DF = df.loc[pd.to_datetime(df.Date)==DATE]\n",
        "\n",
        "weather = pd.read_csv('/content/drive/My Drive/NIJ/Notebooks/Data/NIJ-DATA/WEATHER/030120_071620.csv', header=6)\n",
        "\n",
        "weather['Date_Time'] = pd.to_datetime(weather['Date_Time'])\n",
        "dt = DAY_DF.DateTime.iloc[ind]\n",
        "current_weather = weather.loc[weather.Date_Time.dt.date == dt]\n",
        "logger_fig = go.Figure()\n",
        "logger_fig.add_trace(go.Scatter(x=current_weather['Date_Time'], y=current_weather['Air Temp'], name='Air Temperature'))\n",
        "logger_fig.add_trace(go.Scatter(x=current_weather['Date_Time'], y=current_weather['relative_humidity_set_1'], name='Relative Humidity'))\n",
        "logger_fig.add_trace(go.Scatter(x=current_weather['Date_Time'], y=current_weather['soil_moisture_set_1'], name='Soil Moisture'))\n",
        "logger_fig.add_trace(go.Scatter(x=current_weather['Date_Time'], y=current_weather['solar_radiation_set_1'], name='Soil Radiation'))\n",
        "logger_fig.add_trace(go.Scatter(x=current_weather['Date_Time'], y=current_weather['soil temp '], name='Soil Temperature'))\n",
        "\n",
        "logger_fig.show()\n",
        "\n",
        "\n",
        "\n",
        "for ind in range(0, DAY_DF.shape[0], 2):\n",
        "  imgs = DAY_DF.loc[DAY_DF.DateTime==DAY_DF.DateTime.iloc[ind]]\n",
        "  imgs.reset_index(inplace=True, drop=True) \n",
        "  print(DAY_DF.DateTime.iloc[ind])\n",
        "  \n",
        "\n",
        "  for i, row in imgs.iterrows():\n",
        "    imgPath = os.path.join(imgDir, imgs.loc[i][0])\n",
        "    img, modality = get_flir_image(imgPath)\n",
        "    if modality == 'thermal':\n",
        "      thermal = np.flip(img, axis=0)\n",
        "    elif modality == 'rgb':\n",
        "      rgb = img\n",
        "\n",
        "  img_fig = plot_rgb_thermal(thermal, rgb, dynamic = [10, 60])\n",
        "# TODO Insert Weather Histogram\n",
        "\n",
        "\n",
        "\n",
        "  img_fig.show()\n",
        "\n",
        "  \n",
        "\n"
      ],
      "execution_count": null,
      "outputs": []
    }
  ]
}