{
  "nbformat": 4,
  "nbformat_minor": 0,
  "metadata": {
    "colab": {
      "name": "ImageViewer.ipynb",
      "provenance": [],
      "collapsed_sections": [],
      "mount_file_id": "1h3mRtPihyDm_SW64OSIgvareDrVcmqkV",
      "authorship_tag": "ABX9TyM6Q/8M8hMP7ed2XnE509jd",
      "include_colab_link": true
    },
    "kernelspec": {
      "name": "python3",
      "display_name": "Python 3"
    }
  },
  "cells": [
    {
      "cell_type": "markdown",
      "metadata": {
        "id": "view-in-github",
        "colab_type": "text"
      },
      "source": [
        "<a href=\"https://colab.research.google.com/github/B-Mur/forensic-data-explorer/blob/master/ImageViewer.ipynb\" target=\"_parent\"><img src=\"https://colab.research.google.com/assets/colab-badge.svg\" alt=\"Open In Colab\"/></a>"
      ]
    },
    {
      "cell_type": "markdown",
      "metadata": {
        "id": "F5JCHmlr1ecb"
      },
      "source": [
        "<h1>ImageViewer</h1>\n",
        "This notebook is setup so that each image pair from the handheld FLIR sensor can be viewed in conjunction with the ambient temperature and logging data (if provided on a subject. \n",
        "\n",
        "This notebook has been setup so that the minimal amount of code needs to be directly interacted with. That being said, this notebook is missing some functionality, but should be able to do basics in it. \n",
        "\n"
      ]
    },
    {
      "cell_type": "markdown",
      "metadata": {
        "id": "og-cXT2mtOT9"
      },
      "source": [
        "The first thing we need to do is import all the necessary packages.  "
      ]
    },
    {
      "cell_type": "code",
      "metadata": {
        "id": "MDYs35hDsk05"
      },
      "source": [
        "# if it's the first time running \n",
        "!git clone https://github.com/B-Mur/nij-data-explorer.git\n",
        "!pip install flirimageextractor\n",
        "!pip install loguru\n",
        "!apt-get install -y exiftool\n",
        "import matplotlib as mlp\n",
        "import numpy as np\n",
        "import datetime\n",
        "import pandas as pd\n",
        "import flirimageextractor\n",
        "import os\n",
        "import matplotlib.pyplot as plt\n",
        "from plotly.subplots import make_subplots\n",
        "import plotly.graph_objects as go\n",
        "import plotly.express as px\n",
        "from PIL import Image\n",
        "import sys\n",
        "sys.path.append('/content/nij-data-explorer')\n",
        "from utils import *\n",
        "\n"
      ],
      "execution_count": null,
      "outputs": []
    },
    {
      "cell_type": "markdown",
      "metadata": {
        "id": "BthXy4eiS1Ec"
      },
      "source": [
        "The next block you will need to fill in your google drive folder path in the `imgDir` variable. This will then plot all of the dates and times of the images taken. "
      ]
    },
    {
      "cell_type": "code",
      "metadata": {
        "id": "P07SpAcpHM6H"
      },
      "source": [
        "imgDir = '/content/drive/My Drive/NIJ/Notebooks/Data/NIJ-DATA/DATA/2020_017'\n",
        "df = build_duo_image_links(imgDir)\n",
        "df['Time'], df['Date'] = df['DateTime'].dt.time, df['DateTime'].dt.date\n",
        "df.sort_values(by='Time', inplace=True)\n",
        "px.scatter(x=df['Date'], y=df['Time'])"
      ],
      "execution_count": null,
      "outputs": []
    },
    {
      "cell_type": "markdown",
      "metadata": {
        "id": "h0bBeaaoOeEK"
      },
      "source": [
        "In the following, block of code, it will plot all rgb and thermal image pairs for the date specified in `DATE`. \n",
        "\n",
        "Be sure to follow the following format -> `XXX YY ZZZZ` where `XXX` is the first three letters of the month, `YY` is the date, and `ZZZZ` is the year. So, `Mar 24 2020` is a valid date. \n",
        "\n"
      ]
    },
    {
      "cell_type": "code",
      "metadata": {
        "id": "R6EdtWU8eQpo"
      },
      "source": [
        "# Change this date\n",
        "DATE = 'Mar 24 2020'\n",
        "\n",
        "\n",
        "# Don't touch this -> It's basically converting to the right format. \n",
        "DATE = datetime.datetime.strptime(DATE, '%b %d %Y')\n",
        "DAY_DF = df.loc[pd.to_datetime(df.Date)==DATE]\n",
        "\n",
        "\n",
        "for ind in range(0, DAY_DF.shape[0], 2):\n",
        "  imgs = DAY_DF.loc[DAY_DF.DateTime==DAY_DF.DateTime.iloc[ind]]\n",
        "  imgs.reset_index(inplace=True, drop=True) \n",
        "  print(DAY_DF.DateTime.iloc[ind])\n",
        "  # TODO Insert Weather Histogram\n",
        "\n",
        "  for i, row in imgs.iterrows():\n",
        "    imgPath = os.path.join(imgDir, imgs.loc[i][0])\n",
        "    img, modality = get_flir_image(imgPath)\n",
        "    if modality == 'thermal':\n",
        "      thermal = np.flip(img, axis=0)\n",
        "    elif modality == 'rgb':\n",
        "      rgb = img\n",
        "\n",
        "  img_fig = plot_rgb_thermal(thermal, rgb, dynamic=None) # dynamic = [1, 80]\n",
        "  img_fig.show()\n",
        "\n",
        "  \n",
        "\n"
      ],
      "execution_count": null,
      "outputs": []
    }
  ]
}