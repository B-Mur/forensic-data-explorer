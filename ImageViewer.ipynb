{
  "nbformat": 4,
  "nbformat_minor": 0,
  "metadata": {
    "colab": {
      "name": "ImageViewer.ipynb",
      "provenance": [],
      "collapsed_sections": [],
      "mount_file_id": "1h3mRtPihyDm_SW64OSIgvareDrVcmqkV",
      "authorship_tag": "ABX9TyM6Q/8M8hMP7ed2XnE509jd",
      "include_colab_link": true
    },
    "kernelspec": {
      "name": "python3",
      "display_name": "Python 3"
    }
  },
  "cells": [
    {
      "cell_type": "markdown",
      "metadata": {
        "id": "view-in-github",
        "colab_type": "text"
      },
      "source": [
        "<a href=\"https://colab.research.google.com/github/B-Mur/forensic-data-explorer/blob/master/ImageViewer.ipynb\" target=\"_parent\"><img src=\"https://colab.research.google.com/assets/colab-badge.svg\" alt=\"Open In Colab\"/></a>"
      ]
    },
    {
      "cell_type": "markdown",
      "metadata": {
        "id": "F5JCHmlr1ecb"
      },
      "source": [
        "<h1>ImageViewer</h1>\n",
        "This notebook is setup so that each image pair from the handheld FLIR sensor can be viewed in conjunction with the ambient temperature and logging data (if provided on a subject. \n",
        "\n",
        "This notebook has been setup so that the minimal amount of code needs to be directly interacted with. That being said, this notebook is missing some functionality, but should be able to do basics in it. \n",
        "\n"
      ]
    },
    {
      "cell_type": "markdown",
      "metadata": {
        "id": "og-cXT2mtOT9"
      },
      "source": [
        "The first thing we need to do is import all the necessary packages.  "
      ]
    },
    {
      "cell_type": "code",
      "metadata": {
        "id": "MDYs35hDsk05",
        "outputId": "089e8279-9cac-4676-dae8-a63e2db58a24",
        "colab": {
          "base_uri": "https://localhost:8080/",
          "height": 1000
        }
      },
      "source": [
        "# if it's the first time running \n",
        "!git clone https://github.com/B-Mur/nij-data-explorer.git\n",
        "!pip install flirimageextractor\n",
        "!pip install loguru\n",
        "!apt-get install -y exiftool\n",
        "import matplotlib as mlp\n",
        "import numpy as np\n",
        "import datetime\n",
        "import pandas as pd\n",
        "import flirimageextractor\n",
        "import os\n",
        "import matplotlib.pyplot as plt\n",
        "from plotly.subplots import make_subplots\n",
        "import plotly.graph_objects as go\n",
        "import plotly.express as px\n",
        "from PIL import Image\n",
        "import sys\n",
        "sys.path.append('/content/nij-data-explorer')\n",
        "from utils import *\n",
        "\n"
      ],
      "execution_count": 3,
      "outputs": [
        {
          "output_type": "stream",
          "text": [
            "Cloning into 'nij-data-explorer'...\n",
            "remote: Enumerating objects: 124, done.\u001b[K\n",
            "remote: Counting objects: 100% (124/124), done.\u001b[K\n",
            "remote: Compressing objects: 100% (120/120), done.\u001b[K\n",
            "remote: Total 124 (delta 60), reused 0 (delta 0), pack-reused 0\u001b[K\n",
            "Receiving objects: 100% (124/124), 2.42 MiB | 1.69 MiB/s, done.\n",
            "Resolving deltas: 100% (60/60), done.\n",
            "Collecting flirimageextractor\n",
            "  Downloading https://files.pythonhosted.org/packages/80/bf/3bcb1d6b18d73f9811525516764499e8de4f603ffd90b4763619d5d7c02d/flirimageextractor-1.4.0-py3-none-any.whl\n",
            "Requirement already satisfied: matplotlib in /usr/local/lib/python3.6/dist-packages (from flirimageextractor) (3.2.2)\n",
            "Requirement already satisfied: pillow in /usr/local/lib/python3.6/dist-packages (from flirimageextractor) (7.0.0)\n",
            "Requirement already satisfied: numpy in /usr/local/lib/python3.6/dist-packages (from flirimageextractor) (1.18.5)\n",
            "Requirement already satisfied: cycler>=0.10 in /usr/local/lib/python3.6/dist-packages (from matplotlib->flirimageextractor) (0.10.0)\n",
            "Requirement already satisfied: python-dateutil>=2.1 in /usr/local/lib/python3.6/dist-packages (from matplotlib->flirimageextractor) (2.8.1)\n",
            "Requirement already satisfied: kiwisolver>=1.0.1 in /usr/local/lib/python3.6/dist-packages (from matplotlib->flirimageextractor) (1.2.0)\n",
            "Requirement already satisfied: pyparsing!=2.0.4,!=2.1.2,!=2.1.6,>=2.0.1 in /usr/local/lib/python3.6/dist-packages (from matplotlib->flirimageextractor) (2.4.7)\n",
            "Requirement already satisfied: six in /usr/local/lib/python3.6/dist-packages (from cycler>=0.10->matplotlib->flirimageextractor) (1.15.0)\n",
            "Installing collected packages: flirimageextractor\n",
            "Successfully installed flirimageextractor-1.4.0\n",
            "Collecting loguru\n",
            "\u001b[?25l  Downloading https://files.pythonhosted.org/packages/6d/48/0a7d5847e3de329f1d0134baf707b689700b53bd3066a5a8cfd94b3c9fc8/loguru-0.5.3-py3-none-any.whl (57kB)\n",
            "\u001b[K     |████████████████████████████████| 61kB 2.0MB/s \n",
            "\u001b[?25hCollecting aiocontextvars>=0.2.0; python_version < \"3.7\"\n",
            "  Downloading https://files.pythonhosted.org/packages/db/c1/7a723e8d988de0a2e623927396e54b6831b68cb80dce468c945b849a9385/aiocontextvars-0.2.2-py2.py3-none-any.whl\n",
            "Collecting contextvars==2.4; python_version < \"3.7\"\n",
            "  Downloading https://files.pythonhosted.org/packages/83/96/55b82d9f13763be9d672622e1b8106c85acb83edd7cc2fa5bc67cd9877e9/contextvars-2.4.tar.gz\n",
            "Collecting immutables>=0.9\n",
            "\u001b[?25l  Downloading https://files.pythonhosted.org/packages/99/e0/ea6fd4697120327d26773b5a84853f897a68e33d3f9376b00a8ff96e4f63/immutables-0.14-cp36-cp36m-manylinux1_x86_64.whl (98kB)\n",
            "\u001b[K     |████████████████████████████████| 102kB 5.0MB/s \n",
            "\u001b[?25hBuilding wheels for collected packages: contextvars\n",
            "  Building wheel for contextvars (setup.py) ... \u001b[?25l\u001b[?25hdone\n",
            "  Created wheel for contextvars: filename=contextvars-2.4-cp36-none-any.whl size=7666 sha256=30179e5c5b24c08d01dc7196f18a599c81d9e793ad0369521bb2f5aa6d8b3d77\n",
            "  Stored in directory: /root/.cache/pip/wheels/a5/7d/68/1ebae2668bda2228686e3c1cf16f2c2384cea6e9334ad5f6de\n",
            "Successfully built contextvars\n",
            "Installing collected packages: immutables, contextvars, aiocontextvars, loguru\n",
            "Successfully installed aiocontextvars-0.2.2 contextvars-2.4 immutables-0.14 loguru-0.5.3\n",
            "Reading package lists... Done\n",
            "Building dependency tree       \n",
            "Reading state information... Done\n",
            "Note, selecting 'libimage-exiftool-perl' instead of 'exiftool'\n",
            "The following additional packages will be installed:\n",
            "  libarchive-zip-perl libmime-charset-perl libposix-strptime-perl libsombok3\n",
            "  libunicode-linebreak-perl\n",
            "Suggested packages:\n",
            "  libencode-hanextra-perl libpod2-base-perl\n",
            "The following NEW packages will be installed:\n",
            "  libarchive-zip-perl libimage-exiftool-perl libmime-charset-perl\n",
            "  libposix-strptime-perl libsombok3 libunicode-linebreak-perl\n",
            "0 upgraded, 6 newly installed, 0 to remove and 21 not upgraded.\n",
            "Need to get 3,395 kB of archives.\n",
            "After this operation, 20.3 MB of additional disk space will be used.\n",
            "Get:1 http://archive.ubuntu.com/ubuntu bionic-updates/main amd64 libarchive-zip-perl all 1.60-1ubuntu0.1 [84.6 kB]\n",
            "Get:2 http://archive.ubuntu.com/ubuntu bionic/universe amd64 libimage-exiftool-perl all 10.80-1 [3,147 kB]\n",
            "Get:3 http://archive.ubuntu.com/ubuntu bionic/universe amd64 libmime-charset-perl all 1.012.2-1 [30.9 kB]\n",
            "Get:4 http://archive.ubuntu.com/ubuntu bionic/universe amd64 libposix-strptime-perl amd64 0.13-1build3 [8,632 B]\n",
            "Get:5 http://archive.ubuntu.com/ubuntu bionic/universe amd64 libsombok3 amd64 2.4.0-1 [27.2 kB]\n",
            "Get:6 http://archive.ubuntu.com/ubuntu bionic/universe amd64 libunicode-linebreak-perl amd64 0.0.20160702-1build2 [96.6 kB]\n",
            "Fetched 3,395 kB in 1s (2,783 kB/s)\n",
            "Selecting previously unselected package libarchive-zip-perl.\n",
            "(Reading database ... 144611 files and directories currently installed.)\n",
            "Preparing to unpack .../0-libarchive-zip-perl_1.60-1ubuntu0.1_all.deb ...\n",
            "Unpacking libarchive-zip-perl (1.60-1ubuntu0.1) ...\n",
            "Selecting previously unselected package libimage-exiftool-perl.\n",
            "Preparing to unpack .../1-libimage-exiftool-perl_10.80-1_all.deb ...\n",
            "Unpacking libimage-exiftool-perl (10.80-1) ...\n",
            "Selecting previously unselected package libmime-charset-perl.\n",
            "Preparing to unpack .../2-libmime-charset-perl_1.012.2-1_all.deb ...\n",
            "Unpacking libmime-charset-perl (1.012.2-1) ...\n",
            "Selecting previously unselected package libposix-strptime-perl.\n",
            "Preparing to unpack .../3-libposix-strptime-perl_0.13-1build3_amd64.deb ...\n",
            "Unpacking libposix-strptime-perl (0.13-1build3) ...\n",
            "Selecting previously unselected package libsombok3:amd64.\n",
            "Preparing to unpack .../4-libsombok3_2.4.0-1_amd64.deb ...\n",
            "Unpacking libsombok3:amd64 (2.4.0-1) ...\n",
            "Selecting previously unselected package libunicode-linebreak-perl.\n",
            "Preparing to unpack .../5-libunicode-linebreak-perl_0.0.20160702-1build2_amd64.deb ...\n",
            "Unpacking libunicode-linebreak-perl (0.0.20160702-1build2) ...\n",
            "Setting up libarchive-zip-perl (1.60-1ubuntu0.1) ...\n",
            "Setting up libmime-charset-perl (1.012.2-1) ...\n",
            "Setting up libimage-exiftool-perl (10.80-1) ...\n",
            "Setting up libsombok3:amd64 (2.4.0-1) ...\n",
            "Setting up libposix-strptime-perl (0.13-1build3) ...\n",
            "Setting up libunicode-linebreak-perl (0.0.20160702-1build2) ...\n",
            "Processing triggers for man-db (2.8.3-2ubuntu0.1) ...\n",
            "Processing triggers for libc-bin (2.27-3ubuntu1.2) ...\n",
            "/sbin/ldconfig.real: /usr/local/lib/python3.6/dist-packages/ideep4py/lib/libmkldnn.so.0 is not a symbolic link\n",
            "\n"
          ],
          "name": "stdout"
        }
      ]
    },
    {
      "cell_type": "markdown",
      "metadata": {
        "id": "BthXy4eiS1Ec"
      },
      "source": [
        "The next block you will need to fill in your google drive folder path in the `imgDir` variable. This will then plot all of the dates and times of the images taken. "
      ]
    },
    {
      "cell_type": "code",
      "metadata": {
        "id": "P07SpAcpHM6H"
      },
      "source": [
        "imgDir = '/content/drive/My Drive/NIJ/Notebooks/Data/NIJ-DATA/DATA/2020_017'\n",
        "df = build_duo_image_links(imgDir)\n",
        "df['Time'], df['Date'] = df['DateTime'].dt.time, df['DateTime'].dt.date\n",
        "df.sort_values(by='Time', inplace=True)\n",
        "px.scatter(x=df['Date'], y=df['Time'])"
      ],
      "execution_count": null,
      "outputs": []
    },
    {
      "cell_type": "markdown",
      "metadata": {
        "id": "h0bBeaaoOeEK"
      },
      "source": [
        "In the following, block of code, it will plot all rgb and thermal image pairs for the date specified in `DATE`. \n",
        "\n",
        "Be sure to follow the following format -> `XXX YY ZZZZ` where `XXX` is the first three letters of the month, `YY` is the date, and `ZZZZ` is the year. So, `Mar 24 2020` is a valid date. \n",
        "\n"
      ]
    },
    {
      "cell_type": "code",
      "metadata": {
        "id": "R6EdtWU8eQpo"
      },
      "source": [
        "# Change this date\n",
        "DATE = 'Mar 24 2020'\n",
        "\n",
        "\n",
        "# Don't touch this -> It's basically converting to the right format. \n",
        "DATE = datetime.datetime.strptime(DATE, '%b %d %Y')\n",
        "DAY_DF = df.loc[pd.to_datetime(df.Date)==DATE]\n",
        "\n",
        "\n",
        "for ind in range(0, DAY_DF.shape[0], 2):\n",
        "  imgs = DAY_DF.loc[DAY_DF.DateTime==DAY_DF.DateTime.iloc[ind]]\n",
        "  imgs.reset_index(inplace=True, drop=True) \n",
        "  print(DAY_DF.DateTime.iloc[ind])\n",
        "  # TODO Insert Weather Histogram\n",
        "\n",
        "  for i, row in imgs.iterrows():\n",
        "    imgPath = os.path.join(imgDir, imgs.loc[i][0])\n",
        "    img, modality = get_flir_image(imgPath)\n",
        "    if modality == 'thermal':\n",
        "      thermal = np.flip(img, axis=0)\n",
        "    elif modality == 'rgb':\n",
        "      rgb = img\n",
        "\n",
        "  img_fig = plot_rgb_thermal(thermal, rgb, dynamic=None) # dynamic = [1, 80]\n",
        "  img_fig.show()\n",
        "\n",
        "  \n",
        "\n"
      ],
      "execution_count": null,
      "outputs": []
    }
  ]
}